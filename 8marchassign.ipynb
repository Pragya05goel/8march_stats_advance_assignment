{
 "cells": [
  {
   "cell_type": "markdown",
   "id": "f64af508-45fe-48b4-99fc-5131f34492ca",
   "metadata": {},
   "source": [
    "# **Assignment**\n"
   ]
  },
  {
   "cell_type": "markdown",
   "id": "9b64dc87-8ce7-4905-a0bc-67e369b27462",
   "metadata": {},
   "source": [
    "**Q1. What is the Probability density function?**"
   ]
  },
  {
   "cell_type": "markdown",
   "id": "6f3be6bb-78e6-4eab-90f6-a2abf70c4d78",
   "metadata": {},
   "source": [
    "The Probability Density Function (PDF) is a concept in probability theory and statistics that describes the probability distribution of a continuous random variable. It provides information about the likelihood of a random variable taking on specific values within a given range.\n",
    "\n",
    "Formally, the PDF is a function that describes the relative likelihood of the random variable being within a particular range of values. It is denoted as f(x), where x is the value of the random variable. The PDF satisfies the following properties:\n",
    "\n",
    "1. Non-negativity: The PDF is non-negative for all values of x.\n",
    "\n",
    "2. Total area under the curve: The total area under the PDF curve over the entire range of possible values is equal to 1.\n",
    "\n",
    "The PDF does not directly provide the probability of a random variable taking on a specific value (as the probability for a continuous variable at a single point is infinitesimally small). Instead, the PDF represents the probability density over a range of values. The probability of a random variable falling within a certain interval is obtained by integrating the PDF over that interval.\n",
    "\n",
    "For example, let's consider a continuous random variable X that follows a normal distribution. The PDF of the normal distribution is given by the bell-shaped curve. It describes the relative likelihood of different values of X occurring. The peak of the curve represents the most probable value, and the width of the curve determines the spread of the values.\n",
    "\n",
    "The PDF provides valuable insights into the shape, central tendency, dispersion, and skewness of a probability distribution."
   ]
  },
  {
   "cell_type": "markdown",
   "id": "ba0599b3-48c6-4994-85b8-280b365c1226",
   "metadata": {},
   "source": [
    "**Q2. What are the types of Probability distribution?**"
   ]
  },
  {
   "cell_type": "markdown",
   "id": "68d49fbc-b8f2-4f58-980b-097cd7f14fc9",
   "metadata": {},
   "source": [
    "There are various types of probability distributions, each with its own characteristics and applications. Here are some commonly probability distributions:\n",
    "\n",
    "1. Uniform Distribution: In a uniform distribution, all outcomes within a specified range have equal probability. The probability density is constant within the range and zero outside of it. An example is rolling a fair die, where each outcome has a probability of 1/6.\n",
    "\n",
    "2. Normal Distribution (Gaussian Distribution): The normal distribution is a continuous probability distribution that is symmetric and bell-shaped. It is characterized by its mean (center) and standard deviation (spread). Many real-world phenomena approximate a normal distribution, such as heights and weights of individuals, measurement errors, and IQ scores.\n",
    "\n",
    "3. Binomial Distribution: The binomial distribution describes the number of successes in a fixed number of independent Bernoulli trials. It is characterized by two parameters: the probability of success in each trial and the number of trials. Examples include counting the number of heads in a series of coin flips or the number of defective items in a production line.\n",
    "\n",
    "4. Poisson Distribution: The Poisson distribution models the number of events occurring in a fixed interval of time or space, given a known average rate of occurrence. It is commonly used to model rare events, such as the number of phone calls received per hour at a customer service center or the number of accidents at an intersection in a day.\n",
    "\n",
    "5. Exponential Distribution: The exponential distribution models the time between events in a Poisson process. It is often used to model the duration until the occurrence of an event, such as the time between phone calls or the time between radioactive decay events.\n",
    "\n",
    "6. Gamma Distribution: The gamma distribution is a generalization of the exponential distribution and is used to model the time until a series of events occur. It is characterized by two parameters: shape and scale.\n",
    "\n",
    "7. Chi-Squared Distribution: The chi-squared distribution arises in statistics and is used in hypothesis testing and confidence interval estimation. It is typically associated with the sum of squared standard normal random variables.\n",
    "\n",
    "8. Student's t-Distribution: The t-distribution is used in hypothesis testing when the sample size is small and the population standard deviation is unknown. It is similar to the normal distribution but has heavier tails.\n"
   ]
  },
  {
   "cell_type": "markdown",
   "id": "0155708c-4ba7-447e-a336-de2c68193b00",
   "metadata": {},
   "source": [
    "**Q3. Write a Python function to calculate the probability density function of a normal distribution with\n",
    "given mean and standard deviation at a given point.**"
   ]
  },
  {
   "cell_type": "code",
   "execution_count": 1,
   "id": "22975e1e-7c0e-49ae-8f3e-8312e2c952d4",
   "metadata": {},
   "outputs": [],
   "source": [
    "import math"
   ]
  },
  {
   "cell_type": "code",
   "execution_count": 2,
   "id": "448652be-f225-415e-8db1-c3e0b028c930",
   "metadata": {},
   "outputs": [],
   "source": [
    "def pdf_func(x,mean,std_dev):\n",
    "    return (1 / (std_dev * math.sqrt(2*math.pi))) * math.exp(-(x - mean)**2 / (2*math.pow(std_dev,2)))"
   ]
  },
  {
   "cell_type": "code",
   "execution_count": 3,
   "id": "a543f05e-858b-47d2-a555-1b24e41fc556",
   "metadata": {},
   "outputs": [
    {
     "data": {
      "text/plain": [
       "0.12579440923099774"
      ]
     },
     "execution_count": 3,
     "metadata": {},
     "output_type": "execute_result"
    }
   ],
   "source": [
    "pdf_func(3,2,3)"
   ]
  },
  {
   "cell_type": "markdown",
   "id": "22004373-1da3-44b9-8c5d-172540d2f4c1",
   "metadata": {},
   "source": [
    "**Q4. What are the properties of Binomial distribution? Give two examples of events where binomial\n",
    "distribution can be applied.<br>**"
   ]
  },
  {
   "cell_type": "markdown",
   "id": "e31e89b9-8643-4f5b-a217-76042193c315",
   "metadata": {},
   "source": [
    "The binomial distribution is a discrete probability distribution that models the number of successes in a fixed number of independent Bernoulli trials. Here are the properties of the binomial distribution:\n",
    "\n",
    "1. Fixed Number of Trials: The binomial distribution assumes a fixed number of trials denoted by 'n', where each trial is independent of the others.\n",
    "\n",
    "2. Independent Trials: The outcome of each trial does not affect the outcome of other trials. Each trial is considered to be independent.\n",
    "\n",
    "3. Two Possible Outcomes: Each trial can result in one of two outcomes, usually referred to as \"success\" and \"failure\". These outcomes are mutually exclusive.\n",
    "\n",
    "4. Constant Probability: The probability of success, denoted by 'p', remains constant for each trial. The probability of failure is equal to 1 - p.\n",
    "\n",
    "5. Discrete Distribution: The binomial distribution is a discrete probability distribution as it deals with a count of successes rather than continuous values.\n",
    "\n",
    "6. Probability Mass Function (PMF): The PMF of the binomial distribution gives the probability of observing a specific number of successes in 'n' trials.\n",
    "\n",
    "Examples of binomial distribution are:\n",
    "\n",
    "1. Tossing a Coin: Consider flipping a fair coin multiple times. The binomial distribution can be used to calculate the probability of obtaining a specific number of heads in a given number of tosses.\n",
    "\n",
    "2. Quality Control: In manufacturing processes, quality control often involves inspecting a sample of items for defects. The binomial distribution can be used to determine the probability of finding a certain number of defective items in a fixed sample size.\n",
    "\n",
    "These examples demonstrate situations where there are a fixed number of independent trials with two possible outcomes, and we are interested in calculating the probabilities associated with the number of successes (e.g., heads, defective items) in those trials."
   ]
  },
  {
   "cell_type": "markdown",
   "id": "c7ff9e60-dbc2-4c43-90e9-76b9699edcff",
   "metadata": {},
   "source": [
    "**Q5. Generate a random sample of size 1000 from a binomial distribution with probability of success 0.4\n",
    "and plot a histogram of the results using matplotlib.<br>**"
   ]
  },
  {
   "cell_type": "code",
   "execution_count": 5,
   "id": "1ab89f88-d96d-4859-a6d9-480fee0b4b6f",
   "metadata": {},
   "outputs": [
    {
     "data": {
      "image/png": "[encoded data removed]",
      "text/plain": [
       "<Figure size 640x480 with 1 Axes>"
      ]
     },
     "metadata": {},
     "output_type": "display_data"
    }
   ],
   "source": [
    "import numpy as np\n",
    "import matplotlib.pyplot as plt\n",
    "\n",
    "n = 1000  # Number of trials\n",
    "p = 0.4  # Probability of success\n",
    "\n",
    "# Generate the random sample\n",
    "sample = np.random.binomial(n, p, size=1000)\n",
    "\n",
    "# Plot the histogram\n",
    "plt.hist(sample, bins='auto', alpha=0.7, rwidth=0.85)\n",
    "plt.xlabel('Number of Successes')\n",
    "plt.ylabel('Frequency')\n",
    "plt.title('Histogram of Random Sample from Binomial Distribution')\n",
    "plt.grid(True)\n",
    "plt.show()"
   ]
  },
  {
   "cell_type": "markdown",
   "id": "a0596674-dac3-4acf-bd67-eb2e08d247cc",
   "metadata": {},
   "source": [
    "**Q6. Write a Python function to calculate the cumulative distribution function of a Poisson distribution\n",
    "with given mean at a given point.<br>**"
   ]
  },
  {
   "cell_type": "code",
   "execution_count": 6,
   "id": "89d9e063-e402-4612-b7db-a8e9de105e54",
   "metadata": {},
   "outputs": [],
   "source": [
    "import math\n",
    "\n",
    "def poisson_cdf(k, mean):\n",
    "    cdf = 0.0\n",
    "    for i in range(k + 1):\n",
    "        cdf += math.exp(-mean) * (mean ** i) / math.factorial(i)\n",
    "    return cdf\n"
   ]
  },
  {
   "cell_type": "code",
   "execution_count": 7,
   "id": "0be0d9b4-a7b5-4c4d-942a-0fbc0a581fa2",
   "metadata": {},
   "outputs": [
    {
     "data": {
      "text/plain": [
       "0.9473469826562889"
      ]
     },
     "execution_count": 7,
     "metadata": {},
     "output_type": "execute_result"
    }
   ],
   "source": [
    "poisson_cdf(4,2)"
   ]
  },
  {
   "cell_type": "markdown",
   "id": "aa9c6937-0c5a-4cd9-a831-104bd829cc2d",
   "metadata": {},
   "source": [
    "**Q7. How Binomial distribution different from Poisson distribution?<br>**"
   ]
  },
  {
   "cell_type": "markdown",
   "id": "2c419c1b-a452-43eb-9fa4-222fb118d3c4",
   "metadata": {},
   "source": [
    "The Binomial distribution and the Poisson distribution are both probability distributions that are used to model the number of events or successes. However, they differ in terms of their assumptions and the types of scenarios they are suited for.\n",
    "\n",
    "1. Assumptions:\n",
    "   - Binomial Distribution: The binomial distribution assumes a fixed number of independent trials, each with two possible outcomes (success or failure). The probability of success remains constant for each trial.\n",
    "   - Poisson Distribution: The Poisson distribution assumes an average rate of events occurring in a fixed interval of time or space. The events must occur randomly and independently, and the average rate should be consistent throughout the interval.\n",
    "\n",
    "2. Nature of Random Variable:\n",
    "   - Binomial Distribution: The binomial distribution deals with a discrete random variable representing the count of successes in a fixed number of trials.\n",
    "   - Poisson Distribution: The Poisson distribution deals with a discrete random variable representing the count of events occurring in a fixed interval of time or space.\n",
    "\n",
    "3. Probability of Success:\n",
    "   - Binomial Distribution: In the binomial distribution, the probability of success (p) remains constant for each trial. The distribution is characterized by two parameters: the number of trials (n) and the probability of success (p).\n",
    "   - Poisson Distribution: In the Poisson distribution, the probability of observing an event is assumed to be small for a very short interval. The distribution is characterized by a single parameter: the average rate of events (λ) occurring in the interval.\n",
    "\n",
    "4. Applications:\n",
    "   - Binomial Distribution: The binomial distribution is commonly used when there is a fixed number of independent trials, and we are interested in calculating the probabilities associated with the number of successes. It is used in scenarios such as coin flips, manufacturing quality control, and opinion polls.\n",
    "   - Poisson Distribution: The Poisson distribution is commonly used when we want to model the number of events occurring within a given interval, given the average rate of occurrence. It is used in scenarios such as modeling rare events (e.g., accidents, customer arrivals), queueing theory, and reliability analysis.\n",
    "\n",
    "In summary, the binomial distribution is used when we have a fixed number of independent trials with two possible outcomes, and we are interested in calculating probabilities related to the number of successes. On the other hand, the Poisson distribution is used when we want to model the count of events occurring in a fixed interval, given the average rate of occurrence."
   ]
  },
  {
   "cell_type": "markdown",
   "id": "d25c9322-7b62-4c75-bc0b-8d8b6ce02dec",
   "metadata": {},
   "source": [
    "**Q8. Generate a random sample of size 1000 from a Poisson distribution with mean 5 and calculate the\n",
    "sample mean and variance.<br>**"
   ]
  },
  {
   "cell_type": "code",
   "execution_count": 8,
   "id": "80ec7080-59dd-4691-a980-2af97dd5426a",
   "metadata": {},
   "outputs": [
    {
     "name": "stdout",
     "output_type": "stream",
     "text": [
      "sample mean: 5.068\n",
      "sample variance: 5.289376\n"
     ]
    }
   ],
   "source": [
    "import numpy as np\n",
    "import matplotlib.pyplot as plt\n",
    "\n",
    "# Generate the random sample\n",
    "sample_poisson = np.random.poisson(5,size=1000)\n",
    "\n",
    "sample_mean=np.mean(sample_poisson)\n",
    "sample_variance=np.var(sample_poisson)\n",
    "print(\"sample mean:\",sample_mean)\n",
    "print(\"sample variance:\",sample_variance)"
   ]
  },
  {
   "cell_type": "markdown",
   "id": "77005b0b-649b-45a9-880e-03416629fd29",
   "metadata": {},
   "source": [
    "**Q9. How mean and variance are related in Binomial distribution and Poisson distribution?<br>**"
   ]
  },
  {
   "cell_type": "markdown",
   "id": "19d2948b-a8b5-4401-8c3c-eab2bb7b18df",
   "metadata": {},
   "source": [
    "In both the Binomial distribution and the Poisson distribution, the mean and variance are related, but the nature of their relationship differs due to the underlying assumptions of each distribution.\n",
    "\n",
    "1. Binomial Distribution:\n",
    "   - Mean: In a binomial distribution, the mean (μ) is given by the product of the number of trials (n) and the probability of success (p). So, μ = n * p.\n",
    "   - Variance: The variance (σ^2) of a binomial distribution is calculated as the product of the number of trials (n), the probability of success (p), and the probability of failure (q = 1 - p). So, σ^2 = n * p * q.\n",
    "   - Relationship: In the binomial distribution, the mean and variance are directly related. The variance is a function of the mean and the probability of success. As the mean increases, the variance also increases.\n",
    "\n",
    "2. Poisson Distribution:\n",
    "   - Mean: In a Poisson distribution, the mean (λ) represents the average rate of events occurring in a fixed interval of time or space.\n",
    "   - Variance: The variance (σ^2) of a Poisson distribution is equal to the mean (λ). So, σ^2 = λ.\n",
    "   - Relationship: In the Poisson distribution, the mean and variance are equal. They have a one-to-one relationship, meaning that the variance is solely determined by the mean.\n",
    "\n",
    "In summary, in the binomial distribution, the variance depends on both the mean and the probability of success. As the mean increases, the variance also increases. However, in the Poisson distribution, the variance is solely determined by the mean, and they are equal."
   ]
  },
  {
   "cell_type": "markdown",
   "id": "95e693cd-1540-4892-b761-e45ab8d26d29",
   "metadata": {},
   "source": [
    "**Q10. In normal distribution with respect to mean position, where does the least frequent data appear?<br>**"
   ]
  },
  {
   "cell_type": "markdown",
   "id": "eca69d7a-66b2-4838-af11-b7d798886298",
   "metadata": {},
   "source": [
    "In a normal distribution, the least frequent data points appear in the tails of the distribution, farthest away from the mean.\n",
    "\n",
    "Because as normal distribution is symmetric, meaning that it is centered around its mean.Therefore, The shape of a normal distribution is bell-shaped, with the highest frequency of data points occurring near the mean. As you move away from the mean in either direction, the frequency of data points gradually decreases.\n",
    "\n",
    "The tails of the normal distribution represent the extreme values, which occur at the far ends of the distribution. These extreme values have a lower frequency compared to the data points closer to the mean. The least frequent data points are found in the tails of the distribution, both on the left (lower) and right (higher) sides of the mean.\n",
    "\n",
    "It's important to note that the specific position where the least frequent data appears depends on the standard deviation of the normal distribution. The greater the standard deviation, the wider the distribution, and the farther away the tails extend from the mean."
   ]
  },
  {
   "cell_type": "markdown",
   "id": "524c2cea-b668-41b8-b92e-3e763237bd70",
   "metadata": {},
   "source": [
    "----------"
   ]
  },
  {
   "cell_type": "code",
   "execution_count": null,
   "id": "04267b12-e75e-4240-a643-957501665547",
   "metadata": {},
   "outputs": [],
   "source": []
  }
 ],
 "metadata": {
  "kernelspec": {
   "display_name": "Python 3 (ipykernel)",
   "language": "python",
   "name": "python3"
  },
  "language_info": {
   "codemirror_mode": {
    "name": "ipython",
    "version": 3
   },
   "file_extension": ".py",
   "mimetype": "text/x-python",
   "name": "python",
   "nbconvert_exporter": "python",
   "pygments_lexer": "ipython3",
   "version": "3.10.8"
  }
 },
 "nbformat": 4,
 "nbformat_minor": 5
}
